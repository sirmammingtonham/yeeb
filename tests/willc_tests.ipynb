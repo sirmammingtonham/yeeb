{
 "cells": [
  {
   "cell_type": "markdown",
   "source": [
    "# Testing file reading"
   ],
   "metadata": {}
  },
  {
   "cell_type": "code",
   "execution_count": 9,
   "source": [
    "with open('../res/channelnames_funnyplaylist.txt') as f:\n",
    "    f.write()\n",
    "    # youtube_funny_list = f.read().splitlines()[2:]"
   ],
   "outputs": [],
   "metadata": {}
  },
  {
   "cell_type": "code",
   "execution_count": 24,
   "source": [
    "with open('../res/channelnames_funnyplaylist.txt', 'a') as f:\n",
    "    f.write('\\nhello')"
   ],
   "outputs": [],
   "metadata": {}
  },
  {
   "cell_type": "code",
   "execution_count": 12,
   "source": [
    "with open('../res/channelnames_funnyplaylist.txt', 'w') as f:\n",
    "    f.write('yoyoyo')"
   ],
   "outputs": [],
   "metadata": {}
  },
  {
   "cell_type": "code",
   "execution_count": 30,
   "source": [
    "with open('../res/channelnames_funnyplaylist.txt', 'r') as f:\n",
    "    filecontents = f.read().splitlines()\n",
    "\n",
    "with open('../res/channelnames_funnyplaylist.txt', 'w') as f:\n",
    "    f.write('\\n'.join(filecontents[:-1]))"
   ],
   "outputs": [],
   "metadata": {}
  },
  {
   "cell_type": "code",
   "execution_count": 32,
   "source": [
    "'\\n'.join(filecontents[:-1])"
   ],
   "outputs": [
    {
     "output_type": "execute_result",
     "data": {
      "text/plain": [
       "'https://www.youtube.com/playlist?list=PLtfd05dSaGmiMHvhB4fIqMWTj7zVzEJt0\\n\\npubg-mobile\\nback-it-up-terry\\nreverse-the-vehicle-terrence\\nbitconnect\\nwhai\\ni-dont-care-that-you-broke-your-elbow\\nwhose-toes-are-those\\nhe-disconnected\\nthere-are-8-days-in-a-week\\noh-shiver-me-timbers\\nthats-a-ten\\ni-love-refrigerators\\nskin-tone-chicken-bone\\ncan-you-tell-the-time\\nim-brian\\nmy-love-for-you-is-like-diarrhea\\nthere-is-no-fridge\\ncat-hits-juul\\njesus-christ-its-jason-bourne\\nthis-guy-moaned-at-least-this-loud\\n846-minutes-to-get-no-questions-right\\nmy-teacher-answered-lol\\neric-andre-danny-devito\\nchonk-chart\\noh-lawd-he-comin\\nare-you-gettin-rude-to-man\\nbop-thats-what-you-get-fam\\nwhos-endz-you-comin-to-now-fam\\nim-with-the-science-team\\nhow-tall-are-you-yogurt\\nyour-moms-a-hoe\\nwent-to-africa-a-week-ago\\ni-aint-never-heard-a-fart-hit-3rd-gear\\nclown-juice\\nthey-gave-me-clown-juice\\noh-no-fart\\nshrub\\nbeeeeean\\na-mimir\\nprotactinium\\ncarlos\\ntravis-scott-yeeaeuh\\nritz-car\\ngtfo-outta-here-slap-slap-slap\\nst\\nnew-bathroom-ayee\\nindeed\\ntoilet-2\\ngive-orange-me-give-eat-orange-me-eat-orange-give-me-eat-orange-give-me-you\\nua\\npepperoni-pizza\\nif-the-movie-was-silent-why-cant-you-be\\nclimb-everest-but-hes-gay\\nbut-hes-gay\\ni-love-you-and-i-miss-you-heeeeuüü\\nthe-max-condom\\nmaximum-pleasure-maximum-protection\\ni-have-no-time-for-racist-questions\\nseven-hundred-and-sixty-nine-eight-hundred-and-twenty\\nseven-hundred-listen-properly\\ndont-let-the-bed-bugs-bite\\ni-so-pale\\nlet-me-play-among-us\\nwit-time-is-it\\nhey :b:eter\\ni-made-the-catch\\nand-we-just-made-minecraft\\nim-making-piss\\nyall-mind-if-i-praise-the-lord\\nnot-to-be-racist-but-asian-people\\ngo-back-i-want-to-be-monkey\\nis-jellyfish-a-herb\\nso-youre-the-punk-ive-heard-about\\ni-know-cause-i-won-both-of-them\\nyou-dare-speak-to-me-in-that-tone-of-voice-boy\\nturn-right-to-go-left\\nits-our-song\\nslap-my-nuts\\nwoman-pours-water-on-old-mans-back\\nhe-says-ohh-and-head-enlarges\\nshaggy-and-scooby-doo\\ni-have-just-one-thing-to-say-to-you-oughruohhghouroh\\ni-wont-kidnap-you\\nyou-mad-ugly\\ngaming-is-intense\\nthis-is-my-kingdom-come\\ntwo-dogs-in-the-house\\njellybean-dog\\nwhat-the-dog-doing'"
      ]
     },
     "metadata": {},
     "execution_count": 32
    }
   ],
   "metadata": {}
  },
  {
   "cell_type": "markdown",
   "source": [
    "# Somethin from before July 2021"
   ],
   "metadata": {}
  },
  {
   "cell_type": "code",
   "execution_count": 2,
   "source": [
    "f = open('../src/audio/sphinx_en-US/pronounciation-dictionary.dict', 'r')\n",
    "f = f.read()"
   ],
   "outputs": [],
   "metadata": {}
  },
  {
   "cell_type": "code",
   "execution_count": 8,
   "source": [
    "words = f.split('\\n')"
   ],
   "outputs": [],
   "metadata": {}
  },
  {
   "cell_type": "code",
   "execution_count": 27,
   "source": [
    "words_arr = [word.split(' ', 1) for word in words][:-1]"
   ],
   "outputs": [],
   "metadata": {}
  },
  {
   "cell_type": "code",
   "execution_count": 30,
   "source": [
    "matching = []\n",
    "for word, phonemes in words_arr:\n",
    "    if phonemes[-2:] == 'ER': matching.append(word)"
   ],
   "outputs": [],
   "metadata": {}
  },
  {
   "cell_type": "code",
   "execution_count": 31,
   "source": [
    "len(matching)"
   ],
   "outputs": [
    {
     "output_type": "execute_result",
     "data": {
      "text/plain": [
       "10035"
      ]
     },
     "metadata": {},
     "execution_count": 31
    }
   ],
   "metadata": {}
  },
  {
   "cell_type": "code",
   "execution_count": 36,
   "source": [
    "new_matching = []\n",
    "for word in matching:\n",
    "    if '(' not in word: new_matching.append(word)"
   ],
   "outputs": [],
   "metadata": {}
  },
  {
   "cell_type": "code",
   "execution_count": 41,
   "source": [
    "out = open('../res/erwords.txt', 'w')"
   ],
   "outputs": [],
   "metadata": {}
  },
  {
   "cell_type": "code",
   "execution_count": 42,
   "source": [
    "for word in new_matching:\n",
    "    out.write(word + '\\n')"
   ],
   "outputs": [],
   "metadata": {}
  },
  {
   "cell_type": "code",
   "execution_count": 49,
   "source": [
    "www = open('../res/erwords.txt', 'r').read().split()"
   ],
   "outputs": [],
   "metadata": {}
  },
  {
   "cell_type": "code",
   "execution_count": 55,
   "source": [
    "'for' in www"
   ],
   "outputs": [
    {
     "output_type": "execute_result",
     "data": {
      "text/plain": [
       "False"
      ]
     },
     "metadata": {},
     "execution_count": 55
    }
   ],
   "metadata": {}
  },
  {
   "cell_type": "code",
   "execution_count": 48,
   "source": [
    "for word in matching:\n",
    "    if len(word) < 3: print(word)"
   ],
   "outputs": [
    {
     "output_type": "stream",
     "name": "stdout",
     "text": [
      "er\n",
      "jr\n",
      "mr\n",
      "sr\n",
      "ur\n"
     ]
    }
   ],
   "metadata": {}
  },
  {
   "cell_type": "code",
   "execution_count": 57,
   "source": [
    "longest = ''\n",
    "for word in www:\n",
    "    if len(longest) < len(word):\n",
    "        print(word)\n",
    "        longest = word"
   ],
   "outputs": [
    {
     "output_type": "stream",
     "name": "stdout",
     "text": [
      "aachener\n",
      "accelerator\n",
      "accelerometer\n",
      "airconditioner\n",
      "cinematographer\n",
      "crystallographer\n",
      "great-grandfather\n"
     ]
    }
   ],
   "metadata": {}
  },
  {
   "cell_type": "code",
   "execution_count": null,
   "source": [],
   "outputs": [],
   "metadata": {}
  }
 ],
 "metadata": {
  "kernelspec": {
   "display_name": "Python 3",
   "language": "python",
   "name": "python3"
  },
  "language_info": {
   "codemirror_mode": {
    "name": "ipython",
    "version": 3
   },
   "file_extension": ".py",
   "mimetype": "text/x-python",
   "name": "python",
   "nbconvert_exporter": "python",
   "pygments_lexer": "ipython3",
   "version": "3.7.4"
  }
 },
 "nbformat": 4,
 "nbformat_minor": 2
}